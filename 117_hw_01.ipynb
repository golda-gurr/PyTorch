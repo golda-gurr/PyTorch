{
 "cells": [
  {
   "cell_type": "markdown",
   "metadata": {},
   "source": [
    "# Курс Фреймворк PyTorch для разработки искусственных нейронных сетей"
   ]
  },
  {
   "cell_type": "markdown",
   "metadata": {},
   "source": [
    "# Практическое задание урока 1. Введение в PyTorch"
   ]
  },
  {
   "cell_type": "code",
   "execution_count": 157,
   "metadata": {},
   "outputs": [],
   "source": [
    "import torch"
   ]
  },
  {
   "cell_type": "code",
   "execution_count": 158,
   "metadata": {},
   "outputs": [],
   "source": [
    "import numpy as np"
   ]
  },
  {
   "cell_type": "code",
   "execution_count": 159,
   "metadata": {},
   "outputs": [
    {
     "name": "stdout",
     "output_type": "stream",
     "text": [
      "x :\n",
      "tensor([[[-2.1095,  0.4776, -2.0944, -0.8705,  0.6125],\n",
      "         [-0.7013,  0.2828, -1.0101,  0.0872, -0.5349],\n",
      "         [ 0.8543,  0.4306, -0.3374,  0.4346,  0.5843],\n",
      "         [-0.9306, -1.6217, -0.4608,  0.0243,  0.2502]],\n",
      "\n",
      "        [[-0.1399, -0.6379,  1.0704,  0.0701, -2.4895],\n",
      "         [-0.4167, -1.1401, -0.5101, -0.7422,  0.4644],\n",
      "         [ 0.0124, -0.5860,  0.7514,  0.2826,  1.2579],\n",
      "         [-0.7056,  0.9809,  0.0971, -0.0794, -1.1539]],\n",
      "\n",
      "        [[-0.2929,  0.8558,  0.5299, -1.1276,  0.9842],\n",
      "         [-0.5934, -1.3192,  0.9597,  0.6766, -1.5860],\n",
      "         [ 1.0044,  1.0818, -0.2662, -0.0125,  0.6804],\n",
      "         [ 0.0349,  1.1729,  0.3240, -0.3972,  0.6421]]])\n",
      "\n"
     ]
    }
   ],
   "source": [
    "# Создайте случайный FloatTensor размера 3x4x5\n",
    "\n",
    "x = torch.randn(3, 4, 5).type(torch.float32)\n",
    "print(\"x :\\n%s\\n\" % x)"
   ]
  },
  {
   "cell_type": "code",
   "execution_count": 160,
   "metadata": {},
   "outputs": [
    {
     "name": "stdout",
     "output_type": "stream",
     "text": [
      "x размеры : torch.Size([3, 4, 5])\n",
      "\n"
     ]
    }
   ],
   "source": [
    "# Выведите его форму (shape)\n",
    "\n",
    "print(\"x размеры : %s\\n\" % (x.shape,))"
   ]
  },
  {
   "cell_type": "code",
   "execution_count": 161,
   "metadata": {},
   "outputs": [
    {
     "name": "stdout",
     "output_type": "stream",
     "text": [
      "x размеры : torch.Size([6, 10])\n",
      "\n"
     ]
    }
   ],
   "source": [
    "# Приведите его к форме 6 X 10\n",
    "\n",
    "x.resize_(6, 10)\n",
    "print(\"x размеры : %s\\n\" % (x.shape,))"
   ]
  },
  {
   "cell_type": "code",
   "execution_count": 162,
   "metadata": {},
   "outputs": [],
   "source": [
    "# Умножьте его на вектор [1, 4, 2, 2, 1] поэлементно"
   ]
  },
  {
   "cell_type": "code",
   "execution_count": 163,
   "metadata": {},
   "outputs": [
    {
     "name": "stdout",
     "output_type": "stream",
     "text": [
      "x размеры : torch.Size([3, 4, 5])\n",
      "\n"
     ]
    }
   ],
   "source": [
    "x.resize_(3, 4, 5)\n",
    "print(\"x размеры : %s\\n\" % (x.shape,))"
   ]
  },
  {
   "cell_type": "code",
   "execution_count": 164,
   "metadata": {},
   "outputs": [],
   "source": [
    "vec = torch.FloatTensor([1, 4, 2, 2, 1])"
   ]
  },
  {
   "cell_type": "code",
   "execution_count": 165,
   "metadata": {},
   "outputs": [
    {
     "data": {
      "text/plain": [
       "tensor([[[-2.1095,  1.9103, -4.1888, -1.7411,  0.6125],\n",
       "         [-0.7013,  1.1311, -2.0203,  0.1743, -0.5349],\n",
       "         [ 0.8543,  1.7223, -0.6748,  0.8693,  0.5843],\n",
       "         [-0.9306, -6.4869, -0.9216,  0.0487,  0.2502]],\n",
       "\n",
       "        [[-0.1399, -2.5516,  2.1408,  0.1401, -2.4895],\n",
       "         [-0.4167, -4.5605, -1.0202, -1.4844,  0.4644],\n",
       "         [ 0.0124, -2.3441,  1.5028,  0.5653,  1.2579],\n",
       "         [-0.7056,  3.9237,  0.1941, -0.1587, -1.1539]],\n",
       "\n",
       "        [[-0.2929,  3.4233,  1.0599, -2.2551,  0.9842],\n",
       "         [-0.5934, -5.2770,  1.9194,  1.3532, -1.5860],\n",
       "         [ 1.0044,  4.3270, -0.5323, -0.0250,  0.6804],\n",
       "         [ 0.0349,  4.6915,  0.6480, -0.7943,  0.6421]]])"
      ]
     },
     "execution_count": 165,
     "metadata": {},
     "output_type": "execute_result"
    }
   ],
   "source": [
    "x * vec"
   ]
  },
  {
   "cell_type": "code",
   "execution_count": 166,
   "metadata": {},
   "outputs": [],
   "source": [
    "# Умножьте тензор матрично на себя, чтобы результат был размерности 6x6"
   ]
  },
  {
   "cell_type": "code",
   "execution_count": 167,
   "metadata": {},
   "outputs": [
    {
     "data": {
      "text/plain": [
       "torch.Size([6, 6])"
      ]
     },
     "execution_count": 167,
     "metadata": {},
     "output_type": "execute_result"
    }
   ],
   "source": [
    "x.resize_(6, 10)\n",
    "torch.matmul(x, x.transpose(0,1)).size()"
   ]
  },
  {
   "cell_type": "code",
   "execution_count": 168,
   "metadata": {},
   "outputs": [],
   "source": [
    "# Посчитайте производную функции y = x**3 + z - 75t в точке (1, 0.5, 2)"
   ]
  },
  {
   "cell_type": "code",
   "execution_count": 169,
   "metadata": {},
   "outputs": [],
   "source": [
    "from torch.autograd import Variable"
   ]
  },
  {
   "cell_type": "code",
   "execution_count": 170,
   "metadata": {},
   "outputs": [],
   "source": [
    "x = Variable(torch.FloatTensor([1, 0.5, 2]), requires_grad = True)\n",
    "z = Variable(torch.ones(3), requires_grad = True)\n",
    "t = Variable(torch.ones(3), requires_grad = True)"
   ]
  },
  {
   "cell_type": "code",
   "execution_count": 171,
   "metadata": {},
   "outputs": [
    {
     "name": "stdout",
     "output_type": "stream",
     "text": [
      "X :\n",
      "tensor([-73.0000, -73.8750, -66.0000], grad_fn=<SubBackward0>)\n",
      "\n",
      "X количество измерений:\n",
      "1\n",
      "\n",
      "X размеры :  torch.Size([3])\n",
      "X тип : torch.FloatTensor\n",
      "\n"
     ]
    }
   ],
   "source": [
    "y = x**3 + z - 75*t\n",
    "print_tens_info(y)"
   ]
  },
  {
   "cell_type": "code",
   "execution_count": 172,
   "metadata": {},
   "outputs": [],
   "source": [
    "y.backward(torch.ones(3))"
   ]
  },
  {
   "cell_type": "code",
   "execution_count": 173,
   "metadata": {},
   "outputs": [
    {
     "name": "stdout",
     "output_type": "stream",
     "text": [
      "Производная в точке x = (1, 0.5, 2) : tensor([ 3.0000,  0.7500, 12.0000])\n",
      "\n"
     ]
    }
   ],
   "source": [
    "print(\"Производная в точке x = (1, 0.5, 2) : %s\\n\" % (x.grad))"
   ]
  },
  {
   "cell_type": "code",
   "execution_count": 174,
   "metadata": {},
   "outputs": [
    {
     "name": "stdout",
     "output_type": "stream",
     "text": [
      "X :\n",
      "tensor([[1., 1., 1., 1., 1., 1.],\n",
      "        [1., 1., 1., 1., 1., 1.],\n",
      "        [1., 1., 1., 1., 1., 1.],\n",
      "        [1., 1., 1., 1., 1., 1.],\n",
      "        [1., 1., 1., 1., 1., 1.]])\n",
      "\n",
      "X размеры : torch.Size([5, 6])\n",
      "\n",
      "X тип : <class 'torch.Tensor'>\n",
      "\n"
     ]
    }
   ],
   "source": [
    "# Создайте единичный тензор размера 5x6\n",
    "\n",
    "x = torch.ones(5,6)\n",
    "print(\"X :\\n%s\\n\" % x)\n",
    "print(\"X размеры : %s\\n\" % (x.shape,))\n",
    "print(\"X тип : %s\\n\" % (type(x)))"
   ]
  },
  {
   "cell_type": "code",
   "execution_count": 175,
   "metadata": {},
   "outputs": [
    {
     "name": "stdout",
     "output_type": "stream",
     "text": [
      "X :\n",
      "[[1. 1. 1. 1. 1. 1.]\n",
      " [1. 1. 1. 1. 1. 1.]\n",
      " [1. 1. 1. 1. 1. 1.]\n",
      " [1. 1. 1. 1. 1. 1.]\n",
      " [1. 1. 1. 1. 1. 1.]]\n",
      "\n",
      "X размеры : (5, 6)\n",
      "\n",
      "X тип : <class 'numpy.ndarray'>\n",
      "\n"
     ]
    }
   ],
   "source": [
    "# Переведите его в формат numpy\n",
    "\n",
    "x = x.numpy()\n",
    "print(\"X :\\n%s\\n\" % x)\n",
    "print(\"X размеры : %s\\n\" % (x.shape,))\n",
    "print(\"X тип : %s\\n\" % (type(x)))"
   ]
  },
  {
   "cell_type": "code",
   "execution_count": null,
   "metadata": {},
   "outputs": [],
   "source": [
    "# Давайте теперь пооптимизируем: возьмите функцию y = x**w1 - 2 * x**2 + 5\n",
    "# Посчитайте "
   ]
  },
  {
   "cell_type": "markdown",
   "metadata": {},
   "source": [
    "В последней части лекции выполнена SGD оптимизация модели в виде одного линейного слоя. Как сделать аналочно с более привычными функциями не разобралась самостоятельно."
   ]
  },
  {
   "cell_type": "code",
   "execution_count": null,
   "metadata": {},
   "outputs": [],
   "source": []
  }
 ],
 "metadata": {
  "kernelspec": {
   "display_name": "Python 3",
   "language": "python",
   "name": "python3"
  },
  "language_info": {
   "codemirror_mode": {
    "name": "ipython",
    "version": 3
   },
   "file_extension": ".py",
   "mimetype": "text/x-python",
   "name": "python",
   "nbconvert_exporter": "python",
   "pygments_lexer": "ipython3",
   "version": "3.8.8"
  }
 },
 "nbformat": 4,
 "nbformat_minor": 2
}
